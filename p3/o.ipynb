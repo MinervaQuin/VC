{
 "cells": [
  {
   "cell_type": "code",
   "execution_count": 1,
   "metadata": {},
   "outputs": [
    {
     "name": "stdout",
     "output_type": "stream",
     "text": [
      "Number of coins is  1\n"
     ]
    },
    {
     "ename": "",
     "evalue": "",
     "output_type": "error",
     "traceback": [
      "\u001b[1;31mThe Kernel crashed while executing code in the the current cell or a previous cell. Please review the code in the cell(s) to identify a possible cause of the failure. Click <a href='https://aka.ms/vscodeJupyterKernelCrash'>here</a> for more info. View Jupyter <a href='command:jupyter.viewOutput'>log</a> for further details."
     ]
    }
   ],
   "source": [
    "import numpy as np\n",
    "import cv2\n",
    "import matplotlib.pyplot as plt\n",
    "\n",
    "img = cv2.imread(\"monedas1.jpg\")\n",
    "img = cv2.resize(img , (640 , 800))\n",
    "image_copy = img.copy()\n",
    "img = cv2.GaussianBlur(img , (7 , 7) , 3)\n",
    "\n",
    "gray = cv2.cvtColor(img , cv2.COLOR_BGR2GRAY)\n",
    "ret , thresh = cv2.threshold(gray , 190 , 255 , cv2.THRESH_BINARY)\n",
    "\n",
    "contours , _ = cv2.findContours(thresh , cv2.RETR_TREE , cv2.CHAIN_APPROX_NONE)\n",
    "area = {}\n",
    "for i in range(len(contours)):\n",
    "    cnt = contours[i]\n",
    "    ar = cv2.contourArea(cnt)\n",
    "    area[i] = ar\n",
    "srt = sorted(area.items() , key = lambda x : x[1] , reverse = True)\n",
    "results = np.array(srt).astype(\"int\")\n",
    "num = np.argwhere(results[: , 1] > 500).shape[0]\n",
    "\n",
    "for i in range(1 , num):\n",
    "    image_copy = cv2.drawContours(image_copy , contours , results[i , 0] ,\n",
    "                                  (0 , 255 , 0) , 3)\n",
    "print(\"Number of coins is \" , num - 1)\n",
    "# cv2.imshow(\"final\" , image_copy)    \n",
    "plt.imshow(image_copy)"
   ]
  }
 ],
 "metadata": {
  "kernelspec": {
   "display_name": "VC_P1",
   "language": "python",
   "name": "python3"
  },
  "language_info": {
   "codemirror_mode": {
    "name": "ipython",
    "version": 3
   },
   "file_extension": ".py",
   "mimetype": "text/x-python",
   "name": "python",
   "nbconvert_exporter": "python",
   "pygments_lexer": "ipython3",
   "version": "3.11.5"
  }
 },
 "nbformat": 4,
 "nbformat_minor": 2
}
