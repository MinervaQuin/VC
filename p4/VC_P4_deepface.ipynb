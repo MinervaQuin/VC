{
 "cells": [
  {
   "cell_type": "markdown",
   "metadata": {},
   "source": [
    "Detección de caras con webcam"
   ]
  },
  {
   "cell_type": "code",
   "execution_count": 1,
   "metadata": {},
   "outputs": [],
   "source": [
    "import cv2\n",
    "import time\n",
    "#from deepface import DeepFace\n",
    "from retinaface import RetinaFace\n"
   ]
  },
  {
   "cell_type": "markdown",
   "metadata": {},
   "source": [
    "Deepface\n",
    "\n",
    "Deepface crea directorios para descargar los modelos, cuidado si tienes el disco bastante lleno. Es posible configurar la ruta, en mi caso uso  E:\\RUNNERS_code\\code\\DeepFace, tras definir la ruta a través de la variable de entorno DEEPFACE_HOME\n",
    "\n",
    "pip install retina-face o pip install deepface"
   ]
  },
  {
   "cell_type": "code",
   "execution_count": 2,
   "metadata": {},
   "outputs": [
    {
     "name": "stdout",
     "output_type": "stream",
     "text": [
      "Camera 0\n",
      "{'score': 0.9993444085121155, 'facial_area': [265, 248, 390, 417], 'landmarks': {'right_eye': [312.83484, 321.53693], 'left_eye': [366.83652, 325.8983], 'nose': [342.83218, 366.97055], 'mouth_right': [310.49255, 383.4351], 'mouth_left': [346.78915, 387.08316]}}\n",
      "{'score': 0.9996194839477539, 'facial_area': [266, 251, 387, 415], 'landmarks': {'right_eye': [314.55527, 326.85577], 'left_eye': [367.71606, 328.65646], 'nose': [345.82968, 368.6046], 'mouth_right': [311.59982, 383.84848], 'mouth_left': [350.03418, 386.00717]}}\n",
      "{'score': 0.999593198299408, 'facial_area': [266, 250, 384, 417], 'landmarks': {'right_eye': [314.46878, 329.35168], 'left_eye': [365.22083, 330.58875], 'nose': [344.76642, 370.1554], 'mouth_right': [310.55457, 384.67514], 'mouth_left': [350.8346, 386.29733]}}\n",
      "{'score': 0.9998145699501038, 'facial_area': [265, 257, 388, 416], 'landmarks': {'right_eye': [320.17944, 332.98184], 'left_eye': [369.26483, 336.5368], 'nose': [348.09372, 374.0478], 'mouth_right': [310.1455, 385.3117], 'mouth_left': [346.46335, 388.96445]}}\n",
      "{'score': 0.9998007416725159, 'facial_area': [267, 257, 390, 418], 'landmarks': {'right_eye': [321.0558, 333.22498], 'left_eye': [370.51428, 335.97226], 'nose': [349.69153, 374.1886], 'mouth_right': [312.0589, 386.56668], 'mouth_left': [349.77383, 389.582]}}\n",
      "{'score': 0.9998078942298889, 'facial_area': [267, 257, 391, 416], 'landmarks': {'right_eye': [323.63538, 332.67154], 'left_eye': [372.19952, 337.32526], 'nose': [351.0821, 374.48175], 'mouth_right': [312.02075, 385.47443], 'mouth_left': [348.0308, 389.96375]}}\n",
      "{'score': 0.9998502731323242, 'facial_area': [273, 255, 392, 417], 'landmarks': {'right_eye': [325.75974, 335.0951], 'left_eye': [374.1715, 339.15118], 'nose': [354.183, 376.98758], 'mouth_right': [316.82437, 386.4723], 'mouth_left': [355.20697, 390.22513]}}\n",
      "{'score': 0.9998537302017212, 'facial_area': [273, 251, 394, 416], 'landmarks': {'right_eye': [324.85205, 329.2969], 'left_eye': [374.27878, 336.2041], 'nose': [351.69836, 372.62363], 'mouth_right': [314.16956, 382.03305], 'mouth_left': [354.12933, 388.0833]}}\n",
      "{'score': 0.9995777010917664, 'facial_area': [260, 242, 383, 411], 'landmarks': {'right_eye': [307.81454, 313.46814], 'left_eye': [361.88986, 319.75085], 'nose': [337.77286, 358.71658], 'mouth_right': [306.1559, 377.55948], 'mouth_left': [340.672, 382.86548]}}\n",
      "{'score': 0.9994465708732605, 'facial_area': [268, 242, 388, 412], 'landmarks': {'right_eye': [310.08514, 308.24957], 'left_eye': [364.0572, 314.9792], 'nose': [338.01538, 355.17407], 'mouth_right': [309.11328, 375.23474], 'mouth_left': [345.38788, 381.16324]}}\n",
      "{'score': 0.9997119307518005, 'facial_area': [256, 257, 373, 409], 'landmarks': {'right_eye': [320.009, 318.052], 'left_eye': [357.7174, 329.80933], 'nose': [342.20782, 359.32132], 'mouth_right': [301.04263, 372.84836], 'mouth_left': [326.0893, 383.22903]}}\n",
      "{'score': 0.9975685477256775, 'facial_area': [285, 186, 421, 379], 'landmarks': {'right_eye': [332.94296, 254.8468], 'left_eye': [396.30685, 260.6955], 'nose': [368.21414, 300.2612], 'mouth_right': [333.153, 331.724], 'mouth_left': [379.7398, 336.54123]}}\n"
     ]
    },
    {
     "ename": "KeyboardInterrupt",
     "evalue": "",
     "output_type": "error",
     "traceback": [
      "\u001b[1;31m---------------------------------------------------------------------------\u001b[0m",
      "\u001b[1;31mKeyboardInterrupt\u001b[0m                         Traceback (most recent call last)",
      "\u001b[1;32mc:\\Users\\Minerva\\Documents\\VC\\p4\\VC_P4_deepface.ipynb Cell 4\u001b[0m line \u001b[0;36m3\n\u001b[0;32m     <a href='vscode-notebook-cell:/c%3A/Users/Minerva/Documents/VC/p4/VC_P4_deepface.ipynb#W3sZmlsZQ%3D%3D?line=24'>25</a>\u001b[0m ret, frame \u001b[39m=\u001b[39m cap\u001b[39m.\u001b[39mread()\n\u001b[0;32m     <a href='vscode-notebook-cell:/c%3A/Users/Minerva/Documents/VC/p4/VC_P4_deepface.ipynb#W3sZmlsZQ%3D%3D?line=27'>28</a>\u001b[0m \u001b[39m#Deepface detecta caras y se queda con primera\u001b[39;00m\n\u001b[0;32m     <a href='vscode-notebook-cell:/c%3A/Users/Minerva/Documents/VC/p4/VC_P4_deepface.ipynb#W3sZmlsZQ%3D%3D?line=28'>29</a>\u001b[0m \u001b[39m#face = DeepFace.detectFace(img_path = frame, \u001b[39;00m\n\u001b[0;32m     <a href='vscode-notebook-cell:/c%3A/Users/Minerva/Documents/VC/p4/VC_P4_deepface.ipynb#W3sZmlsZQ%3D%3D?line=29'>30</a>\u001b[0m \u001b[39m#    target_size = (224, 224), \u001b[39;00m\n\u001b[1;32m   (...)\u001b[0m\n\u001b[0;32m     <a href='vscode-notebook-cell:/c%3A/Users/Minerva/Documents/VC/p4/VC_P4_deepface.ipynb#W3sZmlsZQ%3D%3D?line=33'>34</a>\u001b[0m \u001b[39m#Detectar múltiples (https://sefiks.com/2021/04/27/deep-face-detection-with-retinaface-in-python/)\u001b[39;00m\n\u001b[0;32m     <a href='vscode-notebook-cell:/c%3A/Users/Minerva/Documents/VC/p4/VC_P4_deepface.ipynb#W3sZmlsZQ%3D%3D?line=34'>35</a>\u001b[0m \u001b[39m#Devuelve un dict\u001b[39;00m\n\u001b[1;32m---> <a href='vscode-notebook-cell:/c%3A/Users/Minerva/Documents/VC/p4/VC_P4_deepface.ipynb#W3sZmlsZQ%3D%3D?line=35'>36</a>\u001b[0m faces \u001b[39m=\u001b[39m RetinaFace\u001b[39m.\u001b[39;49mdetect_faces(frame);\n\u001b[0;32m     <a href='vscode-notebook-cell:/c%3A/Users/Minerva/Documents/VC/p4/VC_P4_deepface.ipynb#W3sZmlsZQ%3D%3D?line=36'>37</a>\u001b[0m \u001b[39m#Si hay detecciones\u001b[39;00m\n\u001b[0;32m     <a href='vscode-notebook-cell:/c%3A/Users/Minerva/Documents/VC/p4/VC_P4_deepface.ipynb#W3sZmlsZQ%3D%3D?line=37'>38</a>\u001b[0m \u001b[39mif\u001b[39;00m \u001b[39mlen\u001b[39m(faces) \u001b[39m>\u001b[39m \u001b[39m0\u001b[39m:\n\u001b[0;32m     <a href='vscode-notebook-cell:/c%3A/Users/Minerva/Documents/VC/p4/VC_P4_deepface.ipynb#W3sZmlsZQ%3D%3D?line=38'>39</a>\u001b[0m     \u001b[39m#Dibuja contenedor y elementos faciales\u001b[39;00m\n",
      "File \u001b[1;32mc:\\Users\\Minerva\\anaconda3\\envs\\deepface\\Lib\\site-packages\\retinaface\\RetinaFace.py:90\u001b[0m, in \u001b[0;36mdetect_faces\u001b[1;34m(img_path, threshold, model, allow_upscaling)\u001b[0m\n\u001b[0;32m     88\u001b[0m landmarks_list \u001b[39m=\u001b[39m []\n\u001b[0;32m     89\u001b[0m im_tensor, im_info, im_scale \u001b[39m=\u001b[39m preprocess\u001b[39m.\u001b[39mpreprocess_image(img, allow_upscaling)\n\u001b[1;32m---> 90\u001b[0m net_out \u001b[39m=\u001b[39m model(im_tensor)\n\u001b[0;32m     91\u001b[0m net_out \u001b[39m=\u001b[39m [elt\u001b[39m.\u001b[39mnumpy() \u001b[39mfor\u001b[39;00m elt \u001b[39min\u001b[39;00m net_out]\n\u001b[0;32m     92\u001b[0m sym_idx \u001b[39m=\u001b[39m \u001b[39m0\u001b[39m\n",
      "File \u001b[1;32mc:\\Users\\Minerva\\anaconda3\\envs\\deepface\\Lib\\site-packages\\tensorflow\\python\\util\\traceback_utils.py:150\u001b[0m, in \u001b[0;36mfilter_traceback.<locals>.error_handler\u001b[1;34m(*args, **kwargs)\u001b[0m\n\u001b[0;32m    148\u001b[0m filtered_tb \u001b[39m=\u001b[39m \u001b[39mNone\u001b[39;00m\n\u001b[0;32m    149\u001b[0m \u001b[39mtry\u001b[39;00m:\n\u001b[1;32m--> 150\u001b[0m   \u001b[39mreturn\u001b[39;00m fn(\u001b[39m*\u001b[39;49margs, \u001b[39m*\u001b[39;49m\u001b[39m*\u001b[39;49mkwargs)\n\u001b[0;32m    151\u001b[0m \u001b[39mexcept\u001b[39;00m \u001b[39mException\u001b[39;00m \u001b[39mas\u001b[39;00m e:\n\u001b[0;32m    152\u001b[0m   filtered_tb \u001b[39m=\u001b[39m _process_traceback_frames(e\u001b[39m.\u001b[39m__traceback__)\n",
      "File \u001b[1;32mc:\\Users\\Minerva\\anaconda3\\envs\\deepface\\Lib\\site-packages\\tensorflow\\python\\eager\\polymorphic_function\\polymorphic_function.py:831\u001b[0m, in \u001b[0;36mFunction.__call__\u001b[1;34m(self, *args, **kwds)\u001b[0m\n\u001b[0;32m    828\u001b[0m compiler \u001b[39m=\u001b[39m \u001b[39m\"\u001b[39m\u001b[39mxla\u001b[39m\u001b[39m\"\u001b[39m \u001b[39mif\u001b[39;00m \u001b[39mself\u001b[39m\u001b[39m.\u001b[39m_jit_compile \u001b[39melse\u001b[39;00m \u001b[39m\"\u001b[39m\u001b[39mnonXla\u001b[39m\u001b[39m\"\u001b[39m\n\u001b[0;32m    830\u001b[0m \u001b[39mwith\u001b[39;00m OptionalXlaContext(\u001b[39mself\u001b[39m\u001b[39m.\u001b[39m_jit_compile):\n\u001b[1;32m--> 831\u001b[0m   result \u001b[39m=\u001b[39m \u001b[39mself\u001b[39;49m\u001b[39m.\u001b[39;49m_call(\u001b[39m*\u001b[39;49margs, \u001b[39m*\u001b[39;49m\u001b[39m*\u001b[39;49mkwds)\n\u001b[0;32m    833\u001b[0m new_tracing_count \u001b[39m=\u001b[39m \u001b[39mself\u001b[39m\u001b[39m.\u001b[39mexperimental_get_tracing_count()\n\u001b[0;32m    834\u001b[0m without_tracing \u001b[39m=\u001b[39m (tracing_count \u001b[39m==\u001b[39m new_tracing_count)\n",
      "File \u001b[1;32mc:\\Users\\Minerva\\anaconda3\\envs\\deepface\\Lib\\site-packages\\tensorflow\\python\\eager\\polymorphic_function\\polymorphic_function.py:876\u001b[0m, in \u001b[0;36mFunction._call\u001b[1;34m(self, *args, **kwds)\u001b[0m\n\u001b[0;32m    873\u001b[0m \u001b[39mself\u001b[39m\u001b[39m.\u001b[39m_lock\u001b[39m.\u001b[39mrelease()\n\u001b[0;32m    874\u001b[0m \u001b[39m# In this case we have not created variables on the first call. So we can\u001b[39;00m\n\u001b[0;32m    875\u001b[0m \u001b[39m# run the first trace but we should fail if variables are created.\u001b[39;00m\n\u001b[1;32m--> 876\u001b[0m results \u001b[39m=\u001b[39m tracing_compilation\u001b[39m.\u001b[39;49mcall_function(\n\u001b[0;32m    877\u001b[0m     args, kwds, \u001b[39mself\u001b[39;49m\u001b[39m.\u001b[39;49m_variable_creation_config\n\u001b[0;32m    878\u001b[0m )\n\u001b[0;32m    879\u001b[0m \u001b[39mif\u001b[39;00m \u001b[39mself\u001b[39m\u001b[39m.\u001b[39m_created_variables:\n\u001b[0;32m    880\u001b[0m   \u001b[39mraise\u001b[39;00m \u001b[39mValueError\u001b[39;00m(\u001b[39m\"\u001b[39m\u001b[39mCreating variables on a non-first call to a function\u001b[39m\u001b[39m\"\u001b[39m\n\u001b[0;32m    881\u001b[0m                    \u001b[39m\"\u001b[39m\u001b[39m decorated with tf.function.\u001b[39m\u001b[39m\"\u001b[39m)\n",
      "File \u001b[1;32mc:\\Users\\Minerva\\anaconda3\\envs\\deepface\\Lib\\site-packages\\tensorflow\\python\\eager\\polymorphic_function\\tracing_compilation.py:139\u001b[0m, in \u001b[0;36mcall_function\u001b[1;34m(args, kwargs, tracing_options)\u001b[0m\n\u001b[0;32m    137\u001b[0m bound_args \u001b[39m=\u001b[39m function\u001b[39m.\u001b[39mfunction_type\u001b[39m.\u001b[39mbind(\u001b[39m*\u001b[39margs, \u001b[39m*\u001b[39m\u001b[39m*\u001b[39mkwargs)\n\u001b[0;32m    138\u001b[0m flat_inputs \u001b[39m=\u001b[39m function\u001b[39m.\u001b[39mfunction_type\u001b[39m.\u001b[39munpack_inputs(bound_args)\n\u001b[1;32m--> 139\u001b[0m \u001b[39mreturn\u001b[39;00m function\u001b[39m.\u001b[39;49m_call_flat(  \u001b[39m# pylint: disable=protected-access\u001b[39;49;00m\n\u001b[0;32m    140\u001b[0m     flat_inputs, captured_inputs\u001b[39m=\u001b[39;49mfunction\u001b[39m.\u001b[39;49mcaptured_inputs\n\u001b[0;32m    141\u001b[0m )\n",
      "File \u001b[1;32mc:\\Users\\Minerva\\anaconda3\\envs\\deepface\\Lib\\site-packages\\tensorflow\\python\\eager\\polymorphic_function\\concrete_function.py:1264\u001b[0m, in \u001b[0;36mConcreteFunction._call_flat\u001b[1;34m(self, tensor_inputs, captured_inputs)\u001b[0m\n\u001b[0;32m   1260\u001b[0m possible_gradient_type \u001b[39m=\u001b[39m gradients_util\u001b[39m.\u001b[39mPossibleTapeGradientTypes(args)\n\u001b[0;32m   1261\u001b[0m \u001b[39mif\u001b[39;00m (possible_gradient_type \u001b[39m==\u001b[39m gradients_util\u001b[39m.\u001b[39mPOSSIBLE_GRADIENT_TYPES_NONE\n\u001b[0;32m   1262\u001b[0m     \u001b[39mand\u001b[39;00m executing_eagerly):\n\u001b[0;32m   1263\u001b[0m   \u001b[39m# No tape is watching; skip to running the function.\u001b[39;00m\n\u001b[1;32m-> 1264\u001b[0m   \u001b[39mreturn\u001b[39;00m \u001b[39mself\u001b[39;49m\u001b[39m.\u001b[39;49m_inference_function\u001b[39m.\u001b[39;49mflat_call(args)\n\u001b[0;32m   1265\u001b[0m forward_backward \u001b[39m=\u001b[39m \u001b[39mself\u001b[39m\u001b[39m.\u001b[39m_select_forward_and_backward_functions(\n\u001b[0;32m   1266\u001b[0m     args,\n\u001b[0;32m   1267\u001b[0m     possible_gradient_type,\n\u001b[0;32m   1268\u001b[0m     executing_eagerly)\n\u001b[0;32m   1269\u001b[0m forward_function, args_with_tangents \u001b[39m=\u001b[39m forward_backward\u001b[39m.\u001b[39mforward()\n",
      "File \u001b[1;32mc:\\Users\\Minerva\\anaconda3\\envs\\deepface\\Lib\\site-packages\\tensorflow\\python\\eager\\polymorphic_function\\atomic_function.py:217\u001b[0m, in \u001b[0;36mAtomicFunction.flat_call\u001b[1;34m(self, args)\u001b[0m\n\u001b[0;32m    215\u001b[0m \u001b[39mdef\u001b[39;00m \u001b[39mflat_call\u001b[39m(\u001b[39mself\u001b[39m, args: Sequence[core\u001b[39m.\u001b[39mTensor]) \u001b[39m-\u001b[39m\u001b[39m>\u001b[39m Any:\n\u001b[0;32m    216\u001b[0m \u001b[39m  \u001b[39m\u001b[39m\"\"\"Calls with tensor inputs and returns the structured output.\"\"\"\u001b[39;00m\n\u001b[1;32m--> 217\u001b[0m   flat_outputs \u001b[39m=\u001b[39m \u001b[39mself\u001b[39;49m(\u001b[39m*\u001b[39;49margs)\n\u001b[0;32m    218\u001b[0m   \u001b[39mreturn\u001b[39;00m \u001b[39mself\u001b[39m\u001b[39m.\u001b[39mfunction_type\u001b[39m.\u001b[39mpack_output(flat_outputs)\n",
      "File \u001b[1;32mc:\\Users\\Minerva\\anaconda3\\envs\\deepface\\Lib\\site-packages\\tensorflow\\python\\eager\\polymorphic_function\\atomic_function.py:252\u001b[0m, in \u001b[0;36mAtomicFunction.__call__\u001b[1;34m(self, *args)\u001b[0m\n\u001b[0;32m    250\u001b[0m \u001b[39mwith\u001b[39;00m record\u001b[39m.\u001b[39mstop_recording():\n\u001b[0;32m    251\u001b[0m   \u001b[39mif\u001b[39;00m \u001b[39mself\u001b[39m\u001b[39m.\u001b[39m_bound_context\u001b[39m.\u001b[39mexecuting_eagerly():\n\u001b[1;32m--> 252\u001b[0m     outputs \u001b[39m=\u001b[39m \u001b[39mself\u001b[39;49m\u001b[39m.\u001b[39;49m_bound_context\u001b[39m.\u001b[39;49mcall_function(\n\u001b[0;32m    253\u001b[0m         \u001b[39mself\u001b[39;49m\u001b[39m.\u001b[39;49mname,\n\u001b[0;32m    254\u001b[0m         \u001b[39mlist\u001b[39;49m(args),\n\u001b[0;32m    255\u001b[0m         \u001b[39mlen\u001b[39;49m(\u001b[39mself\u001b[39;49m\u001b[39m.\u001b[39;49mfunction_type\u001b[39m.\u001b[39;49mflat_outputs),\n\u001b[0;32m    256\u001b[0m     )\n\u001b[0;32m    257\u001b[0m   \u001b[39melse\u001b[39;00m:\n\u001b[0;32m    258\u001b[0m     outputs \u001b[39m=\u001b[39m make_call_op_in_graph(\n\u001b[0;32m    259\u001b[0m         \u001b[39mself\u001b[39m,\n\u001b[0;32m    260\u001b[0m         \u001b[39mlist\u001b[39m(args),\n\u001b[0;32m    261\u001b[0m         \u001b[39mself\u001b[39m\u001b[39m.\u001b[39m_bound_context\u001b[39m.\u001b[39mfunction_call_options\u001b[39m.\u001b[39mas_attrs(),\n\u001b[0;32m    262\u001b[0m     )\n",
      "File \u001b[1;32mc:\\Users\\Minerva\\anaconda3\\envs\\deepface\\Lib\\site-packages\\tensorflow\\python\\eager\\context.py:1479\u001b[0m, in \u001b[0;36mContext.call_function\u001b[1;34m(self, name, tensor_inputs, num_outputs)\u001b[0m\n\u001b[0;32m   1477\u001b[0m cancellation_context \u001b[39m=\u001b[39m cancellation\u001b[39m.\u001b[39mcontext()\n\u001b[0;32m   1478\u001b[0m \u001b[39mif\u001b[39;00m cancellation_context \u001b[39mis\u001b[39;00m \u001b[39mNone\u001b[39;00m:\n\u001b[1;32m-> 1479\u001b[0m   outputs \u001b[39m=\u001b[39m execute\u001b[39m.\u001b[39;49mexecute(\n\u001b[0;32m   1480\u001b[0m       name\u001b[39m.\u001b[39;49mdecode(\u001b[39m\"\u001b[39;49m\u001b[39mutf-8\u001b[39;49m\u001b[39m\"\u001b[39;49m),\n\u001b[0;32m   1481\u001b[0m       num_outputs\u001b[39m=\u001b[39;49mnum_outputs,\n\u001b[0;32m   1482\u001b[0m       inputs\u001b[39m=\u001b[39;49mtensor_inputs,\n\u001b[0;32m   1483\u001b[0m       attrs\u001b[39m=\u001b[39;49mattrs,\n\u001b[0;32m   1484\u001b[0m       ctx\u001b[39m=\u001b[39;49m\u001b[39mself\u001b[39;49m,\n\u001b[0;32m   1485\u001b[0m   )\n\u001b[0;32m   1486\u001b[0m \u001b[39melse\u001b[39;00m:\n\u001b[0;32m   1487\u001b[0m   outputs \u001b[39m=\u001b[39m execute\u001b[39m.\u001b[39mexecute_with_cancellation(\n\u001b[0;32m   1488\u001b[0m       name\u001b[39m.\u001b[39mdecode(\u001b[39m\"\u001b[39m\u001b[39mutf-8\u001b[39m\u001b[39m\"\u001b[39m),\n\u001b[0;32m   1489\u001b[0m       num_outputs\u001b[39m=\u001b[39mnum_outputs,\n\u001b[1;32m   (...)\u001b[0m\n\u001b[0;32m   1493\u001b[0m       cancellation_manager\u001b[39m=\u001b[39mcancellation_context,\n\u001b[0;32m   1494\u001b[0m   )\n",
      "File \u001b[1;32mc:\\Users\\Minerva\\anaconda3\\envs\\deepface\\Lib\\site-packages\\tensorflow\\python\\eager\\execute.py:60\u001b[0m, in \u001b[0;36mquick_execute\u001b[1;34m(op_name, num_outputs, inputs, attrs, ctx, name)\u001b[0m\n\u001b[0;32m     53\u001b[0m   \u001b[39m# Convert any objects of type core_types.Tensor to Tensor.\u001b[39;00m\n\u001b[0;32m     54\u001b[0m   inputs \u001b[39m=\u001b[39m [\n\u001b[0;32m     55\u001b[0m       tensor_conversion_registry\u001b[39m.\u001b[39mconvert(t)\n\u001b[0;32m     56\u001b[0m       \u001b[39mif\u001b[39;00m \u001b[39misinstance\u001b[39m(t, core_types\u001b[39m.\u001b[39mTensor)\n\u001b[0;32m     57\u001b[0m       \u001b[39melse\u001b[39;00m t\n\u001b[0;32m     58\u001b[0m       \u001b[39mfor\u001b[39;00m t \u001b[39min\u001b[39;00m inputs\n\u001b[0;32m     59\u001b[0m   ]\n\u001b[1;32m---> 60\u001b[0m   tensors \u001b[39m=\u001b[39m pywrap_tfe\u001b[39m.\u001b[39;49mTFE_Py_Execute(ctx\u001b[39m.\u001b[39;49m_handle, device_name, op_name,\n\u001b[0;32m     61\u001b[0m                                       inputs, attrs, num_outputs)\n\u001b[0;32m     62\u001b[0m \u001b[39mexcept\u001b[39;00m core\u001b[39m.\u001b[39m_NotOkStatusException \u001b[39mas\u001b[39;00m e:\n\u001b[0;32m     63\u001b[0m   \u001b[39mif\u001b[39;00m name \u001b[39mis\u001b[39;00m \u001b[39mnot\u001b[39;00m \u001b[39mNone\u001b[39;00m:\n",
      "\u001b[1;31mKeyboardInterrupt\u001b[0m: "
     ]
    }
   ],
   "source": [
    "# Webcam connection\n",
    "cap = cv2.VideoCapture(0)\n",
    "# Check for other cameras\n",
    "if not cap.isOpened():\n",
    "    cap = cv2.VideoCapture(1)\n",
    "    if not cap.isOpened():\n",
    "        cap = cv2.VideoCapture(0)\n",
    "        if not cap.isOpened():\n",
    "            print('Camera error')\n",
    "            exit(0)\n",
    "        else:\n",
    "            print('Camera 0')\n",
    "    else:\n",
    "        print('Camera 1')\n",
    "else:\n",
    "    print('Camera 0')\n",
    "\n",
    "#Set camera resolution\n",
    "cap.set(3,640);\n",
    "cap.set(4,480);\n",
    "\n",
    "while True:\n",
    "    # Get frame\n",
    "    t = time.time()\n",
    "    ret, frame = cap.read()\n",
    "\n",
    "\n",
    "    #Deepface detecta caras y se queda con primera\n",
    "    #face = DeepFace.detectFace(img_path = frame, \n",
    "    #    target_size = (224, 224), \n",
    "    #    detector_backend = backends[4]\n",
    "    #)\n",
    "\n",
    "    #Detectar múltiples (https://sefiks.com/2021/04/27/deep-face-detection-with-retinaface-in-python/)\n",
    "    #Devuelve un dict\n",
    "    faces = RetinaFace.detect_faces(frame);\n",
    "    #Si hay detecciones\n",
    "    if len(faces) > 0:\n",
    "        #Dibuja contenedor y elementos faciales\n",
    "        for idx in range(1,len(faces)+1):\n",
    "            id = 'face_' + str(idx)\n",
    "            #Muestra información de caras\n",
    "            print(faces[id])\n",
    "            #Accediendo a contenedor de la cara\n",
    "            facial_area = faces[id]['facial_area']\n",
    "            #Accediendo a datos de los elementos faciales\n",
    "            landmarks = faces[id]['landmarks']\n",
    "            #Debug\n",
    "            #print(facial_area)\n",
    "            #print(landmarks)\n",
    "            \n",
    "            #Contenedor\n",
    "            cv2.rectangle(frame, (facial_area[2], facial_area[3])\n",
    "            , (facial_area[0], facial_area[1]), (255, 255, 255), 1)\n",
    "\n",
    "            #Elementos faciales\n",
    "            cv2.circle(frame, (int(landmarks[\"left_eye\"][0]),int(landmarks[\"left_eye\"][1])), 3, (0, 0, 255), -1)\n",
    "            cv2.circle(frame, (int(landmarks[\"right_eye\"][0]),int(landmarks[\"right_eye\"][1])), 3, (0, 0, 255), -1)\n",
    "            cv2.circle(frame, (int(landmarks[\"nose\"][0]),int(landmarks[\"nose\"][1])), 3, (255, 0, 0), -1)\n",
    "            cv2.circle(frame, (int(landmarks[\"mouth_left\"][0]),int(landmarks[\"mouth_left\"][1])), 3, (0, 255, 0), -1)\n",
    "            cv2.circle(frame, (int(landmarks[\"mouth_right\"][0]),int(landmarks[\"mouth_right\"][1])), 3, (0, 255, 0), -1)\n",
    "     \n",
    "    #Muestra imagen\n",
    "    cv2.imshow('Cam', frame)\n",
    "    \n",
    "    #Esperar por tecla o seguir\n",
    "    tec = cv2.waitKey(40)\n",
    "    if tec & tec == 27:  # Esc\n",
    "        break\n",
    "    \n",
    "#Cerrar ventanas y cámara\n",
    "cap.release()\n",
    "cv2.destroyAllWindows()"
   ]
  }
 ],
 "metadata": {
  "kernelspec": {
   "display_name": "Python 3.9.0 ('deepface')",
   "language": "python",
   "name": "python3"
  },
  "language_info": {
   "codemirror_mode": {
    "name": "ipython",
    "version": 3
   },
   "file_extension": ".py",
   "mimetype": "text/x-python",
   "name": "python",
   "nbconvert_exporter": "python",
   "pygments_lexer": "ipython3",
   "version": "3.11.5"
  },
  "vscode": {
   "interpreter": {
    "hash": "12028effb1af0cd2244438ff9b17d06bb1d7695ec7a554a144e43ec4b8b79006"
   }
  }
 },
 "nbformat": 4,
 "nbformat_minor": 2
}
